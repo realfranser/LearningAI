{
 "cells": [
  {
   "cell_type": "code",
   "execution_count": 1,
   "metadata": {},
   "outputs": [],
   "source": [
    "# PPO, https://spinningup.openai.com/en/latest/algorithms/ppo.html\n",
    "# Pretty stable, but could be better"
   ]
  },
  {
   "cell_type": "code",
   "execution_count": 2,
   "metadata": {},
   "outputs": [
    {
     "name": "stdout",
     "output_type": "stream",
     "text": [
      "Populating the interactive namespace from numpy and matplotlib\n"
     ]
    }
   ],
   "source": [
    "%pylab inline\n",
    "import random\n",
    "import time\n",
    "import numpy as np\n",
    "\n",
    "import tensorflow as tf\n",
    "import tensorflow.keras.backend as K\n",
    "from tensorflow.keras.models import Model, clone_model\n",
    "from tensorflow.keras.optimizers import Adam, SGD\n",
    "from tensorflow.keras.layers import Input, Dense, Activation, Lambda\n",
    "\n",
    "import gym"
   ]
  },
  {
   "cell_type": "code",
   "execution_count": 3,
   "metadata": {},
   "outputs": [
    {
     "data": {
      "text/plain": [
       "(Box(8,), Discrete(4), gym.spaces.discrete.Discrete)"
      ]
     },
     "execution_count": 3,
     "metadata": {},
     "output_type": "execute_result"
    }
   ],
   "source": [
    "#env = gym.make(\"CartPole-v1\")\n",
    "env = gym.make(\"LunarLander-v2\")\n",
    "env.observation_space, env.action_space, type(env.action_space)"
   ]
  },
  {
   "cell_type": "code",
   "execution_count": 4,
   "metadata": {},
   "outputs": [
    {
     "name": "stdout",
     "output_type": "stream",
     "text": [
      "Model: \"model_1\"\n",
      "_________________________________________________________________\n",
      "Layer (type)                 Output Shape              Param #   \n",
      "=================================================================\n",
      "input_1 (InputLayer)         [(None, 8)]               0         \n",
      "_________________________________________________________________\n",
      "dense (Dense)                (None, 32)                288       \n",
      "_________________________________________________________________\n",
      "dense_1 (Dense)              (None, 32)                1056      \n",
      "_________________________________________________________________\n",
      "dense_2 (Dense)              (None, 32)                1056      \n",
      "_________________________________________________________________\n",
      "dense_3 (Dense)              (None, 4)                 132       \n",
      "_________________________________________________________________\n",
      "lambda (Lambda)              (None, 4)                 0         \n",
      "=================================================================\n",
      "Total params: 2,532\n",
      "Trainable params: 2,532\n",
      "Non-trainable params: 0\n",
      "_________________________________________________________________\n",
      "Model: \"model_2\"\n",
      "_________________________________________________________________\n",
      "Layer (type)                 Output Shape              Param #   \n",
      "=================================================================\n",
      "input_4 (InputLayer)         [(None, 8)]               0         \n",
      "_________________________________________________________________\n",
      "dense_4 (Dense)              (None, 32)                288       \n",
      "_________________________________________________________________\n",
      "dense_5 (Dense)              (None, 32)                1056      \n",
      "_________________________________________________________________\n",
      "dense_6 (Dense)              (None, 32)                1056      \n",
      "_________________________________________________________________\n",
      "dense_7 (Dense)              (None, 1)                 33        \n",
      "=================================================================\n",
      "Total params: 2,433\n",
      "Trainable params: 2,433\n",
      "Non-trainable params: 0\n",
      "_________________________________________________________________\n"
     ]
    }
   ],
   "source": [
    "# policy function\n",
    "x = in_state = Input(env.observation_space.shape)\n",
    "x = Dense(32, activation='elu')(x)\n",
    "x = Dense(32, activation='elu')(x)\n",
    "x = Dense(32, activation='elu')(x)\n",
    "x = Dense(env.action_space.n)(x)\n",
    "action_dist = Lambda(lambda x: tf.nn.log_softmax(x, axis=-1))(x)\n",
    "p = Model(in_state, action_dist)\n",
    "pf = K.function(p.layers[0].input,\n",
    "                [p.layers[-1].output,\n",
    "                 tf.random.categorical(p.layers[-1].output, 1)[0]])\n",
    "\n",
    "in_advantage = Input((1,))\n",
    "in_old_prediction = Input((env.action_space.n,))\n",
    "def loss(y_true, y_pred): \n",
    "  advantage = tf.reshape(in_advantage, (-1,))\n",
    "  \n",
    "  # y_pred is the log probs of the actions\n",
    "  # y_true is the action mask\n",
    "  prob = tf.reduce_sum(y_true * y_pred, axis=-1)\n",
    "  old_prob = tf.reduce_sum(y_true * in_old_prediction, axis=-1)\n",
    "  ratio = tf.exp(prob - old_prob)  # hehe, they are log probs, so we subtract\n",
    "  \n",
    "  # this is the VPG objective\n",
    "  #ll = -(prob * advantage)\n",
    "  \n",
    "  # this is PPO objective\n",
    "  ll = -K.minimum(ratio*advantage, K.clip(ratio, 0.8, 1.2)*advantage)\n",
    "  return ll\n",
    "\n",
    "popt = Model([in_state, in_advantage, in_old_prediction], action_dist)\n",
    "popt.compile(Adam(5e-4), loss)\n",
    "popt.summary()\n",
    "\n",
    "# value function\n",
    "x = in1 = Input(env.observation_space.shape)\n",
    "x = Dense(32, activation='elu')(x)\n",
    "x = Dense(32, activation='elu')(x)\n",
    "x = Dense(32, activation='elu')(x)\n",
    "x = Dense(1)(x)\n",
    "v = Model(in1, x)\n",
    "v.compile(Adam(1e-3), 'mse')\n",
    "v.summary()\n",
    "\n",
    "vf = K.function(v.layers[0].input, v.layers[-1].output)\n",
    "\n",
    "gamma = 0.99\n",
    "lll = []"
   ]
  },
  {
   "cell_type": "code",
   "execution_count": 5,
   "metadata": {},
   "outputs": [
    {
     "name": "stdout",
     "output_type": "stream",
     "text": [
      "  0  ep_rew:  -154.44  loss:  85.10   vloss:  6250.24  counts:  8263/ 96 tm: 4.52 s\n",
      "  1  ep_rew:  -129.85  loss:  45.43   vloss:  1966.16  counts:  8238/102 tm: 3.19 s\n",
      "  2  ep_rew:  -141.88  loss:   5.01   vloss:  2239.95  counts:  8237/ 94 tm: 3.00 s\n",
      "  3  ep_rew:  -130.05  loss:  -4.49   vloss:   981.43  counts:  8192/102 tm: 2.91 s\n",
      "  4  ep_rew:  -136.80  loss:   3.62   vloss:  1238.68  counts:  8252/101 tm: 2.93 s\n",
      "  5  ep_rew:  -112.73  loss: -12.85   vloss:  1264.44  counts:  8271/ 97 tm: 3.01 s\n",
      "  6  ep_rew:  -132.80  loss:  12.59   vloss:   984.91  counts:  8210/ 98 tm: 2.90 s\n",
      "  7  ep_rew:  -120.64  loss:  -3.98   vloss:  1835.86  counts:  8222/ 96 tm: 2.98 s\n",
      "  8  ep_rew:  -115.60  loss:  -3.76   vloss:  1517.28  counts:  8262/ 91 tm: 3.04 s\n",
      "  9  ep_rew:  -106.82  loss:  -1.44   vloss:   838.22  counts:  8280/ 94 tm: 3.02 s\n",
      " 10  ep_rew:   -89.12  loss: -18.41   vloss:  1886.56  counts:  8255/ 77 tm: 3.73 s\n",
      " 11  ep_rew:   -90.95  loss:   8.20   vloss:  1633.67  counts:  8248/ 86 tm: 3.35 s\n",
      " 12  ep_rew:   -77.80  loss:  -8.44   vloss:   807.43  counts:  8256/ 80 tm: 3.71 s\n",
      " 13  ep_rew:   -57.32  loss:  -9.24   vloss:   631.23  counts:  8274/ 83 tm: 3.37 s\n",
      " 14  ep_rew:   -53.89  loss: -11.14   vloss:  1008.91  counts:  8269/ 63 tm: 4.86 s\n",
      " 15  ep_rew:   -42.72  loss:   4.88   vloss:   635.23  counts:  8259/ 73 tm: 3.28 s\n",
      " 16  ep_rew:   -33.70  loss:  -8.51   vloss:   848.04  counts:  8278/ 65 tm: 4.75 s\n",
      " 17  ep_rew:   -20.57  loss:  -7.42   vloss:   915.08  counts:  8251/ 57 tm: 5.59 s\n",
      " 18  ep_rew:   -14.92  loss:  -5.94   vloss:  1048.20  counts:  8249/ 47 tm: 6.17 s\n",
      " 19  ep_rew:    -4.67  loss:   0.60   vloss:   813.89  counts:  9026/ 41 tm: 8.13 s\n",
      " 20  ep_rew:    -4.01  loss:   2.00   vloss:   516.35  counts:  8719/ 46 tm: 6.59 s\n",
      " 21  ep_rew:   -13.02  loss:   2.02   vloss:   829.14  counts:  8693/ 35 tm: 7.64 s\n",
      " 22  ep_rew:    -9.23  loss:  -7.97   vloss:   706.81  counts:  8923/ 25 tm: 9.16 s\n",
      " 23  ep_rew:    -9.33  loss:   4.23   vloss:   617.43  counts:  8283/ 18 tm: 10.06 s\n",
      " 24  ep_rew:   -31.39  loss:  -2.00   vloss:   671.96  counts:  9073/ 15 tm: 12.03 s\n",
      " 25  ep_rew:   -18.51  loss:   5.44   vloss:   793.81  counts:  8232/ 14 tm: 10.92 s\n",
      " 26  ep_rew:   -42.43  loss:  -0.80   vloss:   782.01  counts:  8760/ 18 tm: 10.54 s\n",
      " 27  ep_rew:   -13.79  loss:  -1.89   vloss:   801.76  counts:  8487/ 16 tm: 11.70 s\n",
      " 28  ep_rew:    37.69  loss: -12.70   vloss:   240.46  counts:  8503/ 11 tm: 11.80 s\n",
      " 29  ep_rew:    14.04  loss:  -0.87   vloss:   472.80  counts:  8261/ 14 tm: 10.39 s\n",
      " 30  ep_rew:    16.45  loss:  -6.90   vloss:   308.73  counts:  8721/ 10 tm: 11.43 s\n",
      " 31  ep_rew:    44.00  loss:   1.45   vloss:   474.58  counts:  8540/ 17 tm: 10.59 s\n",
      " 32  ep_rew:    29.49  loss:   4.96   vloss:   493.54  counts:  9148/ 21 tm: 10.18 s\n",
      " 33  ep_rew:    26.67  loss:  -3.08   vloss:   576.46  counts:  8236/ 19 tm: 8.72 s\n",
      " 34  ep_rew:    57.33  loss:  -4.88   vloss:   336.48  counts:  9123/ 14 tm: 10.73 s\n",
      " 35  ep_rew:    85.11  loss:  -1.27   vloss:   235.50  counts:  8467/ 10 tm: 10.52 s\n",
      " 36  ep_rew:    61.13  loss:   4.28   vloss:   430.26  counts:  8354/ 13 tm: 9.99 s\n",
      " 37  ep_rew:   113.39  loss:  -7.99   vloss:   281.95  counts:  9089/ 10 tm: 11.03 s\n",
      " 38  ep_rew:    83.73  loss:   3.43   vloss:   290.49  counts:  8873/ 12 tm: 10.14 s\n",
      " 39  ep_rew:   103.24  loss:  -1.41   vloss:   173.40  counts:  8420/ 10 tm: 9.87 s\n",
      " 40  ep_rew:    59.29  loss:   5.74   vloss:   418.06  counts:  8270/ 12 tm: 10.21 s\n",
      " 41  ep_rew:   121.52  loss:  -5.50   vloss:   107.07  counts:  9000/  9 tm: 11.34 s\n",
      " 42  ep_rew:    71.62  loss:   2.85   vloss:   281.21  counts:  8725/ 11 tm: 10.66 s\n",
      " 43  ep_rew:   115.45  loss:  -3.75   vloss:   102.09  counts:  9000/  9 tm: 11.05 s\n",
      " 44  ep_rew:   118.28  loss:  -1.32   vloss:   121.64  counts:  8199/  9 tm: 10.17 s\n",
      " 45  ep_rew:    66.82  loss:   5.13   vloss:   250.21  counts:  8385/ 10 tm: 10.69 s\n",
      " 46  ep_rew:    75.54  loss:  -1.73   vloss:   300.84  counts:  8988/ 12 tm: 10.47 s\n",
      " 47  ep_rew:   110.95  loss:  -3.25   vloss:   150.57  counts:  8458/ 10 tm: 10.18 s\n",
      " 48  ep_rew:   116.29  loss:  -1.35   vloss:   165.06  counts:  9123/ 10 tm: 10.04 s\n",
      " 49  ep_rew:   118.22  loss:  -1.46   vloss:   155.42  counts:  8244/  9 tm: 9.54 s\n",
      " 50  ep_rew:   110.67  loss:  -0.93   vloss:   203.88  counts:  8422/ 10 tm: 8.43 s\n",
      " 51  ep_rew:   102.18  loss:   0.90   vloss:   220.39  counts:  8785/ 11 tm: 9.82 s\n",
      " 52  ep_rew:   116.17  loss:   1.21   vloss:   145.73  counts:  8512/ 10 tm: 9.02 s\n",
      " 53  ep_rew:   116.14  loss:  -1.87   vloss:   245.38  counts:  8636/ 11 tm: 8.90 s\n",
      " 54  ep_rew:   145.17  loss:  -2.53   vloss:   111.20  counts:  8235/  9 tm: 8.99 s\n",
      " 55  ep_rew:   117.78  loss:   4.96   vloss:   158.27  counts:  8231/  9 tm: 8.28 s\n",
      " 56  ep_rew:   120.96  loss:  -0.56   vloss:   141.93  counts:  8440/ 10 tm: 8.39 s\n",
      " 57  ep_rew:   129.52  loss:  -2.50   vloss:   124.23  counts:  9181/ 10 tm: 9.53 s\n",
      " 58  ep_rew:   132.95  loss:  -1.48   vloss:   117.58  counts:  8264/  9 tm: 8.93 s\n",
      " 59  ep_rew:   137.87  loss:  -0.01   vloss:    28.42  counts:  9000/  9 tm: 9.14 s\n",
      " 60  ep_rew:   150.81  loss:  -1.49   vloss:    36.14  counts:  9000/  9 tm: 9.63 s\n",
      " 61  ep_rew:   133.78  loss:   2.31   vloss:    95.63  counts:  8260/  9 tm: 8.44 s\n",
      " 62  ep_rew:   125.10  loss:   1.08   vloss:   186.97  counts:  8603/ 11 tm: 8.69 s\n",
      " 63  ep_rew:   141.99  loss:  -1.45   vloss:    87.85  counts:  8210/  9 tm: 8.75 s\n",
      " 64  ep_rew:   121.61  loss:   3.89   vloss:   229.23  counts:  8636/ 11 tm: 8.66 s\n",
      " 65  ep_rew:   122.97  loss:  -0.75   vloss:   218.79  counts:  8620/ 11 tm: 9.14 s\n",
      " 66  ep_rew:   142.49  loss:  -1.17   vloss:    19.25  counts:  9000/  9 tm: 9.45 s\n",
      " 67  ep_rew:   155.94  loss:  -1.02   vloss:    18.89  counts:  9000/  9 tm: 8.28 s\n",
      " 68  ep_rew:   170.66  loss:  -1.03   vloss:    20.81  counts:  9000/  9 tm: 9.12 s\n",
      " 69  ep_rew:   186.89  loss:  -3.67   vloss:   367.88  counts:  8749/ 12 tm: 8.69 s\n",
      " 70  ep_rew:   237.48  loss: -17.77   vloss:   552.37  counts:  8427/ 22 tm: 6.23 s\n",
      " 71  ep_rew:   240.16  loss:  -4.74   vloss:   555.18  counts:  8454/ 25 tm: 5.73 s\n",
      " 72  ep_rew:   259.14  loss:  -6.45   vloss:   285.17  counts:  8503/ 27 tm: 5.83 s\n",
      " 73  ep_rew:   232.60  loss:   6.97   vloss:   733.97  counts:  8294/ 29 tm: 5.23 s\n",
      " 74  ep_rew:   231.93  loss:   1.07   vloss:   921.59  counts:  8192/ 28 tm: 5.12 s\n",
      " 75  ep_rew:   257.29  loss:  -5.90   vloss:   296.07  counts:  8254/ 28 tm: 5.23 s\n",
      " 76  ep_rew:   253.99  loss:   4.30   vloss:   250.78  counts:  8429/ 27 tm: 5.57 s\n",
      " 77  ep_rew:   263.70  loss:  -1.76   vloss:   603.14  counts:  8230/ 25 tm: 5.61 s\n",
      " 78  ep_rew:   270.92  loss:  -8.91   vloss:   127.98  counts:  8358/ 29 tm: 5.39 s\n",
      " 79  ep_rew:   247.50  loss:   3.31   vloss:   344.59  counts:  8319/ 30 tm: 5.06 s\n",
      " 80  ep_rew:   258.56  loss:  -1.78   vloss:   449.86  counts:  8456/ 32 tm: 4.95 s\n",
      " 81  ep_rew:   265.75  loss:   9.26   vloss:   477.02  counts:  8270/ 26 tm: 5.11 s\n",
      " 82  ep_rew:   252.28  loss:  -4.97   vloss:   392.96  counts:  8260/ 32 tm: 4.85 s\n",
      " 83  ep_rew:   274.13  loss:  -0.48   vloss:   120.47  counts:  8204/ 30 tm: 4.91 s\n",
      " 84  ep_rew:   264.27  loss:   0.16   vloss:   245.64  counts:  8345/ 32 tm: 4.84 s\n",
      " 85  ep_rew:   268.85  loss:  -0.27   vloss:   229.00  counts:  8334/ 32 tm: 4.81 s\n",
      " 86  ep_rew:   261.91  loss:   2.25   vloss:   371.32  counts:  8359/ 30 tm: 5.04 s\n",
      " 87  ep_rew:   278.82  loss:  -5.33   vloss:    90.83  counts:  8376/ 33 tm: 4.78 s\n",
      " 88  ep_rew:   270.58  loss:   0.44   vloss:   251.73  counts:  8286/ 33 tm: 6.50 s\n",
      " 89  ep_rew:   259.43  loss:   8.46   vloss:   414.98  counts:  8343/ 30 tm: 6.10 s\n",
      " 90  ep_rew:   261.87  loss:  -0.61   vloss:   516.12  counts:  8346/ 33 tm: 4.81 s\n",
      " 91  ep_rew:   273.68  loss:  -2.85   vloss:   244.69  counts:  8365/ 32 tm: 4.84 s\n",
      " 92  ep_rew:   257.98  loss:   1.70   vloss:   340.42  counts:  8229/ 35 tm: 4.65 s\n",
      " 93  ep_rew:   270.89  loss:  -0.08   vloss:    70.11  counts:  8439/ 33 tm: 4.95 s\n",
      " 94  ep_rew:   260.94  loss:   2.81   vloss:   520.69  counts:  8360/ 33 tm: 4.89 s\n",
      " 95  ep_rew:   266.63  loss:  -0.69   vloss:   149.28  counts:  8293/ 34 tm: 4.72 s\n",
      " 96  ep_rew:   236.56  loss:   5.09   vloss:   590.68  counts:  8425/ 35 tm: 4.75 s\n",
      " 97  ep_rew:   248.33  loss:   0.31   vloss:   710.78  counts:  8280/ 34 tm: 4.66 s\n"
     ]
    },
    {
     "name": "stdout",
     "output_type": "stream",
     "text": [
      " 98  ep_rew:   268.24  loss:  -5.55   vloss:   129.20  counts:  8317/ 33 tm: 4.73 s\n",
      " 99  ep_rew:   256.47  loss:   0.26   vloss:   282.02  counts:  8249/ 34 tm: 4.60 s\n"
     ]
    }
   ],
   "source": [
    "for epoch in range(100):\n",
    "  st = time.perf_counter()\n",
    "  \n",
    "  X,Y,V,P = [],[],[],[]\n",
    "  ll = []\n",
    "  while len(X) < 8192:\n",
    "    obs = env.reset()\n",
    "    rews = []\n",
    "\n",
    "    while True:\n",
    "      # get the action\n",
    "      pred, act = [x[0] for x in pf(obs[None])]\n",
    "      P.append(pred)\n",
    "      \n",
    "      # save this state action pair\n",
    "      X.append(np.copy(obs))\n",
    "      act_mask = np.zeros((env.action_space.n))\n",
    "      act_mask[act] = 1.0\n",
    "      Y.append(act_mask)\n",
    "\n",
    "      # take the action and save the reward\n",
    "      obs, rew, done, _ = env.step(act)\n",
    "      rews.append(rew)\n",
    "\n",
    "      if done:\n",
    "        ll.append(np.sum(rews))\n",
    "        # computes rewards to go with gamma discounting\n",
    "        for i in range(len(rews)-2, -1, -1):\n",
    "          rews[i] += rews[i+1] * gamma\n",
    "        V.extend(rews)\n",
    "        break\n",
    "  X,Y,V,P = [np.array(x) for x in [X,Y,V,P]]\n",
    "\n",
    "  # subtract value baseline to get advantage\n",
    "  A = V - vf(X)[:, 0]\n",
    "  \n",
    "  loss = popt.fit([X,A,P],Y, batch_size=1024, epochs=10, shuffle=True, verbose=0)\n",
    "  loss = loss.history['loss'][-1]\n",
    "  vloss = v.fit(X, V, batch_size=1024, epochs=10, shuffle=True, verbose=0)\n",
    "  vloss = vloss.history['loss'][-1]\n",
    "        \n",
    "  lll.append((epoch, np.mean(ll), loss, vloss, len(X), len(ll), time.perf_counter() - st))\n",
    "  print(\"%3d  ep_rew:%9.2f  loss:%7.2f   vloss:%9.2f  counts: %5d/%3d tm: %.2f s\" % lll[-1])"
   ]
  },
  {
   "cell_type": "code",
   "execution_count": 6,
   "metadata": {},
   "outputs": [
    {
     "data": {
      "text/plain": [
       "<matplotlib.legend.Legend at 0x11d11b128>"
      ]
     },
     "execution_count": 6,
     "metadata": {},
     "output_type": "execute_result"
    },
    {
     "data": {
      "image/png": "[encoded data removed]",
      "text/plain": [
       "<Figure size 1152x576 with 2 Axes>"
      ]
     },
     "metadata": {
      "needs_background": "light"
     },
     "output_type": "display_data"
    }
   ],
   "source": [
    "figsize(16,8)\n",
    "plt.subplot(1,2,1)\n",
    "plot([x[1] for x in lll], label=\"Mean Episode Reward\")\n",
    "plot([x[2] for x in lll], label=\"Epoch Loss\")\n",
    "plt.legend()\n",
    "plt.subplot(1,2,2)\n",
    "plot([x[3] for x in lll], color='green', label=\"value Loss\")\n",
    "plt.legend()"
   ]
  },
  {
   "cell_type": "code",
   "execution_count": 7,
   "metadata": {},
   "outputs": [
    {
     "name": "stdout",
     "output_type": "stream",
     "text": [
      "ran 257 steps, got 293.665417 reward\n"
     ]
    }
   ],
   "source": [
    "obs = env.reset()\n",
    "rews = []\n",
    "while True:\n",
    "  env.render()\n",
    "  pred, act = [x[0] for x in pf(obs[None])]\n",
    "  obs, rew, done, _ = env.step(np.argmax(pred))\n",
    "  rews.append(rew)\n",
    "  time.sleep(0.05)\n",
    "  if done:\n",
    "    break\n",
    "print(\"ran %d steps, got %f reward\" % (len(rews), np.sum(rews)))"
   ]
  },
  {
   "cell_type": "code",
   "execution_count": null,
   "metadata": {},
   "outputs": [],
   "source": []
  }
 ],
 "metadata": {
  "kernelspec": {
   "display_name": "Python 3",
   "language": "python",
   "name": "python3"
  },
  "language_info": {
   "codemirror_mode": {
    "name": "ipython",
    "version": 3
   },
   "file_extension": ".py",
   "mimetype": "text/x-python",
   "name": "python",
   "nbconvert_exporter": "python",
   "pygments_lexer": "ipython3",
   "version": "3.6.5"
  }
 },
 "nbformat": 4,
 "nbformat_minor": 2
}
